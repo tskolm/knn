{
 "cells": [
  {
   "cell_type": "code",
   "execution_count": 1,
   "metadata": {
    "collapsed": false
   },
   "outputs": [],
   "source": [
    "import pandas as pd\n",
    "import numpy as np\n",
    "import matplotlib.pyplot as plt\n",
    "import matplotlib as mlp\n",
    "from sklearn.linear_model import RidgeClassifier\n",
    "from sklearn.linear_model import LogisticRegression\n",
    "from sklearn.neighbors import KNeighborsClassifier\n",
    "from sklearn.ensemble import RandomForestClassifier\n",
    "from sklearn.metrics import accuracy_score\n",
    "from itertools import combinations\n",
    "from sklearn.preprocessing import StandardScaler\n",
    "from sklearn.linear_model import LogisticRegression\n",
    "from sklearn.metrics import f1_score\n",
    "from sklearn.model_selection import train_test_split\n",
    "from sklearn.model_selection import KFold\n",
    "%matplotlib inline"
   ]
  },
  {
   "cell_type": "code",
   "execution_count": 2,
   "metadata": {
    "collapsed": false
   },
   "outputs": [
    {
     "data": {
      "text/plain": [
       "(168, 656)"
      ]
     },
     "execution_count": 2,
     "metadata": {},
     "output_type": "execute_result"
    }
   ],
   "source": [
    "num_obj = 656\n",
    "\n",
    "with open('LearnRes_6_norm.txt', mode='r', encoding='cp1252') as f: \n",
    "    text = f.readlines()\n",
    "\n",
    "arr = np.zeros((len(text), num_obj))\n",
    "\n",
    "arr.shape"
   ]
  },
  {
   "cell_type": "code",
   "execution_count": 3,
   "metadata": {
    "collapsed": true
   },
   "outputs": [],
   "source": [
    "k = [266, 350, 446, 537, 592, 655]\n",
    "\n",
    "s = [k[num] - k[num-1] for num in range(1, len(k)) ]\n",
    "\n",
    "s =  [k[0] + 1] + s\n",
    "\n",
    "\n",
    "y = []\n",
    "y_size = []\n",
    "for num, val in enumerate(s):\n",
    "    for j in range(val):\n",
    "        y.append(num)\n",
    "        y_size.append(1 / val)\n",
    "y = np.array(y)"
   ]
  },
  {
   "cell_type": "code",
   "execution_count": 4,
   "metadata": {
    "collapsed": false
   },
   "outputs": [],
   "source": [
    "for line_num, line in enumerate(text):\n",
    "    indices = [int(ind) - 1 for ind in line.split(\": \")[1].replace(\"<b>\", \"\").replace(\"</b>\", \"\").split(\" \") if ind.isdigit()]\n",
    "    arr[line_num, indices] = 1"
   ]
  },
  {
   "cell_type": "code",
   "execution_count": 5,
   "metadata": {
    "collapsed": false
   },
   "outputs": [],
   "source": [
    "norm_const = []\n",
    "for num, val in enumerate(s):\n",
    "    for j in range(val):\n",
    "        norm_const.append(val+1)"
   ]
  },
  {
   "cell_type": "code",
   "execution_count": 6,
   "metadata": {
    "collapsed": true
   },
   "outputs": [],
   "source": [
    "norm = np.sum(arr, axis=1)"
   ]
  },
  {
   "cell_type": "code",
   "execution_count": 8,
   "metadata": {
    "collapsed": false
   },
   "outputs": [],
   "source": [
    "X = np.loadtxt(\"matrix.txt\")\n",
    "scaler = StandardScaler()\n",
    "X = scaler.fit_transform(X)"
   ]
  },
  {
   "cell_type": "code",
   "execution_count": 9,
   "metadata": {
    "collapsed": false
   },
   "outputs": [
    {
     "data": {
      "text/plain": [
       "(656, 88)"
      ]
     },
     "execution_count": 9,
     "metadata": {},
     "output_type": "execute_result"
    }
   ],
   "source": [
    "X.shape"
   ]
  },
  {
   "cell_type": "code",
   "execution_count": 10,
   "metadata": {
    "collapsed": true
   },
   "outputs": [],
   "source": [
    "from scipy.special import expit"
   ]
  },
  {
   "cell_type": "code",
   "execution_count": 11,
   "metadata": {
    "collapsed": false
   },
   "outputs": [],
   "source": [
    "G = np.sum((norm[:, np.newaxis] * arr / norm_const), axis=0)\n",
    "\n",
    "ind_sorted = np.argsort(-G)\n",
    "sorted_G = G[ind_sorted]"
   ]
  },
  {
   "cell_type": "code",
   "execution_count": 58,
   "metadata": {
    "collapsed": false
   },
   "outputs": [
    {
     "data": {
      "text/plain": [
       "(array([ 107.,   31.,   21.,   33.,   32.,    3.,   21.,  106.,  115.,  187.]),\n",
       " array([  0. ,   2.3,   4.6,   6.9,   9.2,  11.5,  13.8,  16.1,  18.4,\n",
       "         20.7,  23. ]),\n",
       " <a list of 10 Patch objects>)"
      ]
     },
     "execution_count": 58,
     "metadata": {},
     "output_type": "execute_result"
    },
    {
     "data": {
      "image/png": "[encoded data removed]",
      "text/plain": [
       "<matplotlib.figure.Figure at 0x124b70710>"
      ]
     },
     "metadata": {},
     "output_type": "display_data"
    }
   ],
   "source": [
    "plt.hist(G)"
   ]
  },
  {
   "cell_type": "code",
   "execution_count": 59,
   "metadata": {
    "collapsed": false
   },
   "outputs": [
    {
     "data": {
      "text/plain": [
       "[<matplotlib.lines.Line2D at 0x12596d588>]"
      ]
     },
     "execution_count": 59,
     "metadata": {},
     "output_type": "execute_result"
    },
    {
     "data": {
      "image/png": "[encoded data removed]",
      "text/plain": [
       "<matplotlib.figure.Figure at 0x12575b9b0>"
      ]
     },
     "metadata": {},
     "output_type": "display_data"
    }
   ],
   "source": [
    "plt.plot(G[ind_sorted])"
   ]
  },
  {
   "cell_type": "code",
   "execution_count": 77,
   "metadata": {
    "collapsed": false
   },
   "outputs": [],
   "source": [
    "models = {\n",
    "    \"Logistic Regression\": LogisticRegression(),\n",
    "    \"Random Forest Classifier\": RandomForestClassifier(),\n",
    "    \"Ridge Classifier\": RidgeClassifier(),\n",
    "    \"KNeighbors Classifier\": KNeighborsClassifier()\n",
    "}"
   ]
  },
  {
   "cell_type": "code",
   "execution_count": 79,
   "metadata": {
    "collapsed": true
   },
   "outputs": [],
   "source": []
  },
  {
   "cell_type": "code",
   "execution_count": 92,
   "metadata": {
    "collapsed": true
   },
   "outputs": [],
   "source": [
    "def cross_val(X, y, X_err, y_err, model):\n",
    "    \n",
    "    X = np.array(X)\n",
    "    y = np.array(y)\n",
    "    score = []\n",
    "    \n",
    "    n = X.shape[0]\n",
    "    num_groups = min(14, n)\n",
    "    coeff = X_err.shape[0] / n\n",
    "    \n",
    "    kf = KFold(n_splits=num_groups)\n",
    "    kf.get_n_splits(X, y)\n",
    "    \n",
    "    KFold(n_splits=2, random_state=None, shuffle=False)\n",
    "    \n",
    "    for train_index, test_index in kf.split(X):\n",
    "        X_train, X_test = X[train_index], X[test_index]\n",
    "        y_train, y_test = y[train_index], y[test_index]\n",
    "        \n",
    "        try:\n",
    "            model.fit(X_train, y_train)\n",
    "        except ValueError:\n",
    "            return 0\n",
    " \n",
    "        try:\n",
    "            pred = model.predict(X_test)\n",
    "        except ValueError:\n",
    "            return 0\n",
    "        \n",
    "        try:\n",
    "            pred_err = model.predict(X_err)\n",
    "        except ValueError:\n",
    "            return 0\n",
    "            \n",
    "        acc_err = accuracy_score(pred_err, y_err) * coeff\n",
    "        \n",
    "        score.append(accuracy_score(pred, y_test) * (1 - coeff) + acc_err)\n",
    "        \n",
    "    return np.array(score).mean()      \n"
   ]
  },
  {
   "cell_type": "code",
   "execution_count": 52,
   "metadata": {
    "collapsed": false
   },
   "outputs": [],
   "source": [
    "def test(X, y, model):\n",
    "    print(X.shape, y.shape)\n",
    "    result = [cross_val(X, y, np.array([[]]), np.array([]), model)]\n",
    "\n",
    "\n",
    "    for i in range(1, len(ind_sorted)-1):\n",
    "\n",
    "        to_del_X = X.copy()\n",
    "        to_del_X = to_del_X.tolist()\n",
    "        to_del_y = y.copy()\n",
    "        to_del_y = to_del_y.tolist()\n",
    "        \n",
    "        a = sorted(ind_sorted[:i], key=lambda x: -x)\n",
    "        \n",
    "        X_err = np.zeros((len(a), X.shape[1]))\n",
    "        y_err = np.zeros((len(a)))\n",
    "        \n",
    "        for num, j in enumerate(a):\n",
    "            X_err[num, :] = to_del_X[j]\n",
    "            y_err[num] = to_del_y[j]\n",
    "            del to_del_X[j]\n",
    "            del to_del_y[j]\n",
    "        \n",
    "        result.append(cross_val(to_del_X, to_del_y, X_err, y_err, model))\n",
    "    \n",
    "    return np.array(result)"
   ]
  },
  {
   "cell_type": "code",
   "execution_count": null,
   "metadata": {
    "collapsed": true
   },
   "outputs": [],
   "source": [
    "def shuffle_data(X, y):\n",
    "    shuffle = np.arange(np.size(y))\n",
    "    np.random.shuffle(shuffle)\n",
    "    return X[shuffle], np.array(y)[shuffle]"
   ]
  },
  {
   "cell_type": "code",
   "execution_count": 93,
   "metadata": {
    "collapsed": false
   },
   "outputs": [
    {
     "name": "stdout",
     "output_type": "stream",
     "text": [
      "Random Forest Classifier\n",
      "(656, 88) (656,)\n",
      "(655,)\n",
      "Logistic Regression\n",
      "(656, 88) (656,)\n"
     ]
    },
    {
     "name": "stderr",
     "output_type": "stream",
     "text": [
      "/Users/tatiana/anaconda/lib/python3.5/site-packages/matplotlib/axes/_axes.py:519: UserWarning: No labelled objects found. Use label='...' kwarg on individual plots.\n",
      "  warnings.warn(\"No labelled objects found. \"\n"
     ]
    },
    {
     "name": "stdout",
     "output_type": "stream",
     "text": [
      "(655,)\n",
      "KNeighbors Classifier\n",
      "(656, 88) (656,)\n",
      "(655,)\n",
      "Ridge Classifier\n",
      "(656, 88) (656,)\n",
      "(655,)\n"
     ]
    },
    {
     "data": {
      "image/png": "[encoded data removed]",
      "text/plain": [
       "<matplotlib.figure.Figure at 0x124c9f160>"
      ]
     },
     "metadata": {},
     "output_type": "display_data"
    },
    {
     "data": {
      "image/png": "[encoded data removed]",
      "text/plain": [
       "<matplotlib.figure.Figure at 0x125530358>"
      ]
     },
     "metadata": {},
     "output_type": "display_data"
    },
    {
     "data": {
      "image/png": "[encoded data removed]",
      "text/plain": [
       "<matplotlib.figure.Figure at 0x12594db70>"
      ]
     },
     "metadata": {},
     "output_type": "display_data"
    },
    {
     "data": {
      "image/png": "[encoded data removed]",
      "text/plain": [
       "<matplotlib.figure.Figure at 0x125115860>"
      ]
     },
     "metadata": {},
     "output_type": "display_data"
    }
   ],
   "source": [
    " for name, model in models.items():\n",
    "    print (name)\n",
    "    plt.figure(figsize=(7, 4))\n",
    "    \n",
    "    plt.xlabel('Number of deleted object')\n",
    "    plt.ylabel('F-measure')\n",
    "    plt.title(name)\n",
    "    plt.ylim(0, 1)\n",
    "    \n",
    "    res = test(X, y, model)\n",
    "    print (res.shape)\n",
    "    plt.plot(res)\n",
    "    plt.legend()"
   ]
  }
 ],
 "metadata": {
  "anaconda-cloud": {},
  "kernelspec": {
   "display_name": "Python [Root]",
   "language": "python",
   "name": "Python [Root]"
  },
  "language_info": {
   "codemirror_mode": {
    "name": "ipython",
    "version": 3
   },
   "file_extension": ".py",
   "mimetype": "text/x-python",
   "name": "python",
   "nbconvert_exporter": "python",
   "pygments_lexer": "ipython3",
   "version": "3.5.1"
  }
 },
 "nbformat": 4,
 "nbformat_minor": 0
}

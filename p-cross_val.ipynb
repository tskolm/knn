{
 "cells": [
  {
   "cell_type": "code",
   "execution_count": 1,
   "metadata": {
    "collapsed": false
   },
   "outputs": [],
   "source": [
    "import pandas as pd\n",
    "import numpy as np\n",
    "import matplotlib.pyplot as plt\n",
    "import matplotlib as mlp\n",
    "from sklearn.linear_model import RidgeClassifier\n",
    "from sklearn.linear_model import LogisticRegression\n",
    "from sklearn.neighbors import KNeighborsClassifier\n",
    "from sklearn.ensemble import RandomForestClassifier\n",
    "from sklearn.metrics import accuracy_score\n",
    "from itertools import combinations\n",
    "from sklearn.preprocessing import StandardScaler\n",
    "from sklearn.linear_model import LogisticRegression\n",
    "from sklearn.metrics import f1_score\n",
    "from sklearn.model_selection import train_test_split\n",
    "%matplotlib inline"
   ]
  },
  {
   "cell_type": "code",
   "execution_count": 2,
   "metadata": {
    "collapsed": false
   },
   "outputs": [
    {
     "data": {
      "text/plain": [
       "(168, 656)"
      ]
     },
     "execution_count": 2,
     "metadata": {},
     "output_type": "execute_result"
    }
   ],
   "source": [
    "num_obj = 656\n",
    "\n",
    "with open('LearnRes_6_norm.txt', mode='r', encoding='cp1252') as f: \n",
    "    text = f.readlines()\n",
    "\n",
    "arr = np.zeros((len(text), num_obj))\n",
    "\n",
    "arr.shape"
   ]
  },
  {
   "cell_type": "code",
   "execution_count": 3,
   "metadata": {
    "collapsed": true
   },
   "outputs": [],
   "source": [
    "k = [266, 350, 446, 537, 592, 655]\n",
    "\n",
    "s = [k[num] - k[num-1] for num in range(1, len(k)) ]\n",
    "\n",
    "s =  [k[0] + 1] + s\n",
    "\n",
    "\n",
    "y = []\n",
    "y_size = []\n",
    "for num, val in enumerate(s):\n",
    "    for j in range(val):\n",
    "        y.append(num)\n",
    "        y_size.append(1 / val)\n",
    "y = np.array(y)"
   ]
  },
  {
   "cell_type": "code",
   "execution_count": 4,
   "metadata": {
    "collapsed": false
   },
   "outputs": [],
   "source": [
    "for line_num, line in enumerate(text):\n",
    "    indices = [int(ind) - 1 for ind in line.split(\": \")[1].replace(\"<b>\", \"\").replace(\"</b>\", \"\").split(\" \") if ind.isdigit()]\n",
    "    arr[line_num, indices] = 1"
   ]
  },
  {
   "cell_type": "markdown",
   "metadata": {},
   "source": [
    "считаем количество логических закономерностей в каждом классе"
   ]
  },
  {
   "cell_type": "code",
   "execution_count": 5,
   "metadata": {
    "collapsed": false
   },
   "outputs": [],
   "source": [
    "norm_const = []\n",
    "for num, val in enumerate(s):\n",
    "    for j in range(val):\n",
    "        norm_const.append(val+1)"
   ]
  },
  {
   "cell_type": "code",
   "execution_count": 6,
   "metadata": {
    "collapsed": true
   },
   "outputs": [],
   "source": [
    "norm = np.sum(arr, axis=1)"
   ]
  },
  {
   "cell_type": "code",
   "execution_count": 7,
   "metadata": {
    "collapsed": false
   },
   "outputs": [
    {
     "data": {
      "text/plain": [
       "array([ 228.,  182.,   59.,  225.,  129.,  227.,  225.,  215.,  226.,\n",
       "        226.,  227.,  185.,  166.,  226.,  229.,  216.,  224.,  227.,\n",
       "        168.,  229.,  225.,  226.,  229.,  220.,  216.,  228.,  160.,\n",
       "        227.,   67.,   67.,   67.,   50.,   18.,   67.,   38.,   56.,\n",
       "         67.,   67.,   67.,   67.,   49.,   67.,   67.,   67.,   67.,\n",
       "         67.,   77.,   67.,   67.,   17.,   67.,   38.,   67.,   67.,\n",
       "         16.,   78.,   82.,   81.,   81.,   81.,   81.,   81.,   81.,\n",
       "         77.,   81.,   75.,   81.,   81.,   82.,   82.,   81.,   81.,\n",
       "         81.,   81.,   81.,   55.,   81.,   81.,   79.,   82.,   81.,\n",
       "         76.,   82.,   82.,   65.,   11.,   67.,   67.,   68.,   68.,\n",
       "         68.,   68.,   21.,   63.,   67.,   67.,   67.,   67.,   68.,\n",
       "         60.,   64.,   24.,   67.,   50.,   62.,   68.,   68.,   67.,\n",
       "         67.,   58.,   24.,   68.,   35.,   10.,   37.,   35.,   30.,\n",
       "         14.,   24.,   30.,   35.,   24.,   25.,   27.,   29.,   10.,\n",
       "         11.,   34.,   35.,   30.,   14.,   23.,   34.,   10.,   34.,\n",
       "         35.,   35.,   21.,   31.,   18.,   26.,   26.,   12.,   26.,\n",
       "         31.,   25.,   26.,   26.,   13.,   15.,   16.,   19.,   20.,\n",
       "         26.,   29.,   29.,   11.,   27.,   23.,   22.,   24.,    4.,\n",
       "         26.,   25.,   27.,   22.,   21.,   18.])"
      ]
     },
     "execution_count": 7,
     "metadata": {},
     "output_type": "execute_result"
    }
   ],
   "source": [
    "norm"
   ]
  },
  {
   "cell_type": "code",
   "execution_count": 8,
   "metadata": {
    "collapsed": false
   },
   "outputs": [],
   "source": [
    "X = np.loadtxt(\"matrix.txt\")\n",
    "scaler = StandardScaler()\n",
    "X = scaler.fit_transform(X)"
   ]
  },
  {
   "cell_type": "code",
   "execution_count": 9,
   "metadata": {
    "collapsed": false
   },
   "outputs": [
    {
     "data": {
      "text/plain": [
       "(656, 88)"
      ]
     },
     "execution_count": 9,
     "metadata": {},
     "output_type": "execute_result"
    }
   ],
   "source": [
    "X.shape"
   ]
  },
  {
   "cell_type": "code",
   "execution_count": 10,
   "metadata": {
    "collapsed": true
   },
   "outputs": [],
   "source": [
    "from scipy.special import expit"
   ]
  },
  {
   "cell_type": "code",
   "execution_count": 11,
   "metadata": {
    "collapsed": false
   },
   "outputs": [],
   "source": [
    "G = np.sum((norm[:, np.newaxis] * arr / norm_const), axis=0)\n",
    "\n",
    "ind_sorted = np.argsort(-G)\n",
    "sorted_G = G[ind_sorted]"
   ]
  },
  {
   "cell_type": "code",
   "execution_count": 58,
   "metadata": {
    "collapsed": false
   },
   "outputs": [
    {
     "data": {
      "text/plain": [
       "(array([ 107.,   31.,   21.,   33.,   32.,    3.,   21.,  106.,  115.,  187.]),\n",
       " array([  0. ,   2.3,   4.6,   6.9,   9.2,  11.5,  13.8,  16.1,  18.4,\n",
       "         20.7,  23. ]),\n",
       " <a list of 10 Patch objects>)"
      ]
     },
     "execution_count": 58,
     "metadata": {},
     "output_type": "execute_result"
    },
    {
     "data": {
      "image/png": "[encoded data removed]",
      "text/plain": [
       "<matplotlib.figure.Figure at 0x124b70710>"
      ]
     },
     "metadata": {},
     "output_type": "display_data"
    }
   ],
   "source": [
    "plt.hist(G)"
   ]
  },
  {
   "cell_type": "code",
   "execution_count": 59,
   "metadata": {
    "collapsed": false
   },
   "outputs": [
    {
     "data": {
      "text/plain": [
       "[<matplotlib.lines.Line2D at 0x12596d588>]"
      ]
     },
     "execution_count": 59,
     "metadata": {},
     "output_type": "execute_result"
    },
    {
     "data": {
      "image/png": "[encoded data removed]",
      "text/plain": [
       "<matplotlib.figure.Figure at 0x12575b9b0>"
      ]
     },
     "metadata": {},
     "output_type": "display_data"
    }
   ],
   "source": [
    "plt.plot(G[ind_sorted])"
   ]
  },
  {
   "cell_type": "code",
   "execution_count": 15,
   "metadata": {
    "collapsed": true
   },
   "outputs": [],
   "source": [
    "# shuffle = np.arange(np.size(y))\n",
    "# np.random.shuffle(shuffle)\n",
    "\n",
    "# X = X[shuffle]\n",
    "\n",
    "# y = np.array(y)[shuffle]"
   ]
  },
  {
   "cell_type": "code",
   "execution_count": 17,
   "metadata": {
    "collapsed": true
   },
   "outputs": [],
   "source": [
    "# def learn_2(X, y, reg, mode=\"test\"):\n",
    "#     X_train, X_test, y_train, y_test = train_test_split(X, y, test_size=0.3)\n",
    "\n",
    "#     reg.fit(X_train, y_train)\n",
    "#     if mode == \"train\":\n",
    "#         pred = reg.predict(X_train)\n",
    "#         return f1_score(y_train, pred, average=\"weighted\")\n",
    "#     else:\n",
    "#         pred = reg.predict(X_test)\n",
    "#         return f1_score(y_test, pred, average=\"weighted\")\n",
    "\n"
   ]
  },
  {
   "cell_type": "code",
   "execution_count": 18,
   "metadata": {
    "collapsed": true
   },
   "outputs": [],
   "source": [
    "# def test_version_2(X, y, model, mode, coeff = 0.7):\n",
    "#     to_del_X = X.copy()\n",
    "#     to_del_X = to_del_X.tolist()\n",
    "#     to_del_y = y.copy()\n",
    "#     to_del_y = to_del_y.tolist()\n",
    "#     num_del = []\n",
    "#     for i in range(1, len(k)):\n",
    "#         num = int(s[i] * (1-coeff))\n",
    "#         a = sorted(ind[k_new[i-1]:k_new[i]])\n",
    "#         num_del += a[:num]\n",
    "\n",
    "        \n",
    "#     num_del = sorted(num_del, key=lambda x: -x)\n",
    "#     for j in num_del:\n",
    "#         del to_del_X[j]\n",
    "#         del to_del_y[j]\n",
    "\n",
    "\n",
    "\n",
    "\n",
    "#     return learn_2(to_del_X, to_del_y, model, mode)"
   ]
  },
  {
   "cell_type": "code",
   "execution_count": 77,
   "metadata": {
    "collapsed": false
   },
   "outputs": [],
   "source": [
    "models = {\n",
    "    \"Logistic Regression\": LogisticRegression(),\n",
    "    \"Random Forest Classifier\": RandomForestClassifier(),\n",
    "    \"Ridge Classifier\": RidgeClassifier(),\n",
    "    \"KNeighbors Classifier\": KNeighborsClassifier()\n",
    "}"
   ]
  },
  {
   "cell_type": "code",
   "execution_count": 20,
   "metadata": {
    "collapsed": false
   },
   "outputs": [],
   "source": [
    "# for name, model in models.items():\n",
    "#     plt.ylim(0, 1)\n",
    "#     plt.xlim(0.1, 1)\n",
    "#     print (name)\n",
    "#     x_arr = []\n",
    "#     y_arr = []\n",
    "#     for i in np.arange(0.1, 1.1, 0.1):\n",
    "#         x_arr.append(i)\n",
    "#         y_arr.append(test_version_2(X, y, model, \"train\", i))\n",
    "#     plt.figure()\n",
    "#     plt.title(name)\n",
    "#     plt.xlabel('Part of train set')\n",
    "#     plt.ylabel('F-measure')\n",
    "#     y_max = max(y_arr)\n",
    "#     x_max = x_arr[y_arr.index(y_max)]\n",
    "#     plt.annotate('max', xy=(x_max, y_max),\n",
    "#                 arrowprops=dict(facecolor='black', shrink=0.01))\n",
    "#     plt.plot(x_arr, y_arr, label=\"train\", linewidth=2.0)\n",
    "#     plt.ylim(0, 1)\n",
    "#     plt.xlim(0.1, 1)\n",
    "#     x_arr = []\n",
    "#     y_arr = []\n",
    "#     for i in np.arange(0.1, 1.1, 0.1):\n",
    "#         x_arr.append(i)\n",
    "#         y_arr.append(test_version_2(X, y, model, \"test\", i))\n",
    "        \n",
    "#     y_max = max(y_arr)\n",
    "#     x_max = x_arr[y_arr.index(y_max)]\n",
    "#     plt.annotate('max', xy=(x_max, y_max),\n",
    "#                 arrowprops=dict(facecolor='black', shrink=0.01))\n",
    "#     plt.plot(x_arr, y_arr, label=\"test\", linewidth=2.0)\n",
    "#     plt.legend(loc=6)"
   ]
  },
  {
   "cell_type": "code",
   "execution_count": 76,
   "metadata": {
    "collapsed": true
   },
   "outputs": [],
   "source": [
    "def cross_val(X, y, X_err, y_err, model):\n",
    "    num_groups = 14\n",
    "    X = np.array(X)\n",
    "    \n",
    "    n = X.shape[0]\n",
    "    \n",
    "    coeff = X_err.shape[0] / n\n",
    "    \n",
    "    size_X = n // num_groups\n",
    "    size_err = X_err.shape[0] // num_groups\n",
    "\n",
    "    \n",
    "    groups = []\n",
    "    groups_y = []\n",
    "#     groups_err = []\n",
    "#     groups_err_y = []\n",
    "    \n",
    "    for i in range(num_groups-1):\n",
    "        groups.append(X[i * size_X: (i + 1) * size_X - 1])\n",
    "        groups_y.append(np.array(y[i * size_X: (i + 1) * size_X - 1]))\n",
    "#         groups_err.append(X_err[i * size_err: (i + 1) * size_err - 1])\n",
    "#         groups_err_y.append(np.array(y_err[i * size_err: (i + 1) * size_err - 1]))     \n",
    "\n",
    "    i = num_groups-1\n",
    "    groups.append(X[i * size_X:])\n",
    "    groups_y.append(np.array(y[i * size_X:]))\n",
    "#     print (list(map(len, groups)))\n",
    "    \n",
    "    score = []\n",
    "    for i in combinations(np.arange(num_groups), num_groups-1):\n",
    "        \n",
    "        X_train = groups[i[0]]\n",
    "        y_train = groups_y[i[0]]\n",
    "        \n",
    "        a = set()\n",
    "        b = set(range(1, num_groups + 1))\n",
    "        \n",
    "        for j in range(1, num_groups - 1):\n",
    "            X_train = np.concatenate((X_train, groups[i[j]]))\n",
    "            y_train = np.append(y_train, groups_y[i[j]])\n",
    "            \n",
    "        try:\n",
    "            model.fit(X_train, y_train)\n",
    "        except ValueError:\n",
    "            return 0\n",
    "        test = list(a ^ b)[0]\n",
    "        \n",
    "        X_test = groups[test]\n",
    "        y_test = np.array(groups_y[test])\n",
    "        \n",
    "        try:\n",
    "            pred = model.predict(X_test)\n",
    "        except ValueError:\n",
    "            return 0\n",
    "        \n",
    "        try:\n",
    "            pred_err = model.predict(X_err)\n",
    "        except ValueError:\n",
    "            return 0\n",
    "            \n",
    "        try:\n",
    "            acc_err = accuracy_score(pred_err, y_err) * coeff\n",
    "        except TypeError:\n",
    "            print (\"here\")\n",
    "            acc_err = 0\n",
    "        \n",
    "        score.append(accuracy_score(pred, y_test) * (1 - coeff) + acc_err)\n",
    "        \n",
    "    return np.array(score).mean()      \n"
   ]
  },
  {
   "cell_type": "code",
   "execution_count": 66,
   "metadata": {
    "collapsed": false
   },
   "outputs": [
    {
     "data": {
      "text/plain": [
       "[2, 2, 3]"
      ]
     },
     "execution_count": 66,
     "metadata": {},
     "output_type": "execute_result"
    }
   ],
   "source": [
    "a = [[1, 2], [3, 4], [2, 1, 1]]\n",
    "list(map(len, a))"
   ]
  },
  {
   "cell_type": "code",
   "execution_count": 25,
   "metadata": {
    "collapsed": false
   },
   "outputs": [],
   "source": [
    "# def learn(X, y, reg, test_X, test_y, mode=\"test\"):\n",
    "\n",
    "#     X_train, X_test, y_train, y_test = train_test_split(X, y, test_size=0.2)\n",
    "#     X_test = np.array(X_test)\n",
    "#     test_X = np.array(test_X)\n",
    "#     reg.fit(X_train, y_train)\n",
    "\n",
    "#     if mode == \"train\":\n",
    "#         try:\n",
    "#             pred = reg.predict(X_train)\n",
    "#             return accuracy_score(y_train, pred)\n",
    "#         except:\n",
    "#             return 1\n",
    "#     else:\n",
    "#         try:\n",
    "#             all_obj = X_test.shape[0] + test_X.shape[0]\n",
    "#             coeff_1 = 1 - float(X_test.shape[0]) / float(all_obj)\n",
    "#             coeff_2 = float(test_X.shape[0]) / float(all_obj)\n",
    "\n",
    "#             pred = reg.predict(X_test)\n",
    "#             pred_test = reg.predict(test_X)\n",
    "#             try:\n",
    "#                 two = accuracy_score(test_y, pred_test) * coeff_2\n",
    "#             except:\n",
    "#                 return 0\n",
    "#             return accuracy_score(y_test, pred) * coeff_1 + two\n",
    "#         except:\n",
    "#             print(\"exception\")\n",
    "#             return 1"
   ]
  },
  {
   "cell_type": "code",
   "execution_count": 52,
   "metadata": {
    "collapsed": false
   },
   "outputs": [],
   "source": [
    "def test(X, y, model):\n",
    "    print(X.shape, y.shape)\n",
    "    result = [cross_val(X, y, np.array([[]]), np.array([]), model)]\n",
    "\n",
    "\n",
    "    for i in range(1, len(ind_sorted)-1):\n",
    "\n",
    "        to_del_X = X.copy()\n",
    "        to_del_X = to_del_X.tolist()\n",
    "        to_del_y = y.copy()\n",
    "        to_del_y = to_del_y.tolist()\n",
    "        \n",
    "        a = sorted(ind_sorted[:i], key=lambda x: -x)\n",
    "        \n",
    "        X_err = np.zeros((len(a), X.shape[1]))\n",
    "        y_err = np.zeros((len(a)))\n",
    "        \n",
    "        for num, j in enumerate(a):\n",
    "            X_err[num, :] = to_del_X[j]\n",
    "            y_err[num] = to_del_y[j]\n",
    "            del to_del_X[j]\n",
    "            del to_del_y[j]\n",
    "        \n",
    "        result.append(cross_val(to_del_X, to_del_y, X_err, y_err, model))\n",
    "    \n",
    "    return np.array(result)"
   ]
  },
  {
   "cell_type": "code",
   "execution_count": 33,
   "metadata": {
    "collapsed": true
   },
   "outputs": [],
   "source": [
    "shuffle = np.arange(np.size(y))\n",
    "np.random.shuffle(shuffle)\n",
    "X = X[shuffle]\n",
    "y = np.array(y)[shuffle]"
   ]
  },
  {
   "cell_type": "code",
   "execution_count": null,
   "metadata": {
    "collapsed": false
   },
   "outputs": [
    {
     "name": "stdout",
     "output_type": "stream",
     "text": [
      "Random Forest Classifier\n",
      "(656, 88) (656,)\n"
     ]
    }
   ],
   "source": [
    " for name, model in models.items():\n",
    "    print (name)\n",
    "    plt.figure(figsize=(7, 4))\n",
    "    \n",
    "    plt.xlabel('Number of deleted object')\n",
    "    plt.ylabel('F-measure')\n",
    "    plt.title(name)\n",
    "    plt.ylim(0, 1)\n",
    "    \n",
    "    res = test(X, y, model)\n",
    "    print (res.shape)\n",
    "    plt.plot(res)\n",
    "    plt.legend()"
   ]
  }
 ],
 "metadata": {
  "anaconda-cloud": {},
  "kernelspec": {
   "display_name": "Python [Root]",
   "language": "python",
   "name": "Python [Root]"
  },
  "language_info": {
   "codemirror_mode": {
    "name": "ipython",
    "version": 3
   },
   "file_extension": ".py",
   "mimetype": "text/x-python",
   "name": "python",
   "nbconvert_exporter": "python",
   "pygments_lexer": "ipython3",
   "version": "3.5.1"
  }
 },
 "nbformat": 4,
 "nbformat_minor": 0
}
